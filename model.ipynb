{
 "cells": [
  {
   "cell_type": "code",
   "execution_count": 15,
   "metadata": {},
   "outputs": [
    {
     "name": "stdout",
     "output_type": "stream",
     "text": [
      "Similarity :  69.0 %\n"
     ]
    }
   ],
   "source": [
    "import PyPDF2\n",
    "import re\n",
    "from sklearn.feature_extraction.text import TfidfVectorizer\n",
    "from sklearn.metrics.pairwise import cosine_similarity\n",
    "import pickle \n",
    "\n",
    "# Load the PDF files\n",
    "file1 = open(r'D:\\hackathon\\ML\\US11195109.pdf', 'rb')\n",
    "file2 = open(r'D:\\hackathon\\ML\\201910051.pdf','rb')\n",
    "\n",
    "# Extract text from the PDF files\n",
    "pdf_reader = PyPDF2.PdfReader(file1)\n",
    "text1 = ''\n",
    "for page in range(len(pdf_reader.pages)):\n",
    "    text1 += pdf_reader.pages[page].extract_text()\n",
    "    \n",
    "pdf_reader = PyPDF2.PdfReader(file2)\n",
    "text2 = ''\n",
    "for page in range(len(pdf_reader.pages)):\n",
    "    text2 += pdf_reader.pages[page].extract_text()\n",
    "\n",
    "# Preprocess the text data\n",
    "def preprocess(text):\n",
    "    # Convert to lowercase\n",
    "    text = text.lower()\n",
    "    # Remove non-alphanumeric characters\n",
    "    text = re.sub(r'[^a-z0-9\\s]', '', text)                                                                                                                                                                                                                                                                                                                                                                                                      \n",
    "    return text\n",
    "\n",
    "text1 = preprocess(text1)\n",
    "text2 = preprocess(text2)\n",
    "\n",
    "# Convert the preprocessed text data into numerical feature vectors using TF-IDF\n",
    "tfidf_vectorizer = TfidfVectorizer()\n",
    "pickle.dump(tfidf_vectorizer,open(\"model.pkl\",'wb'))\n",
    "\n",
    "text1 = 'https://ipfs.io/ipfs/'\n",
    "text2 = 'QmXMPwwRXuQYzhzafQpyNTrLxHNRyHg2a86tK3czderCos'\n",
    "tfidf_matrix = tfidf_vectorizer.fit_transform([text1, text2])\n",
    "\n",
    "# Calculate the cosine similarity between the two PDF contents\n",
    "cosine_sim = cosine_similarity(tfidf_matrix[0:1], tfidf_matrix)[0][1]\n",
    "\n",
    "# print('Cosine similarity:', cosine_sim)\n",
    "print(\"Similarity : \",round(cosine_sim,2)*100,\"%\")"
   ]
  },
  {
   "cell_type": "code",
   "execution_count": 7,
   "metadata": {},
   "outputs": [],
   "source": [
    "import requests\n",
    "import json"
   ]
  },
  {
   "cell_type": "code",
   "execution_count": 9,
   "metadata": {},
   "outputs": [
    {
     "data": {
      "text/plain": [
       "<Response [200]>"
      ]
     },
     "execution_count": 9,
     "metadata": {},
     "output_type": "execute_result"
    }
   ],
   "source": [
    "url = 'https://ipfs.io/ipfs/'\n",
    "id = 'QmXMPwwRXuQYzhzafQpyNTrLxHNRyHg2a86tK3czderCos'\n",
    "url +=id\n",
    "response_API = requests.get(url)\n",
    "response_API"
   ]
  }
 ],
 "metadata": {
  "kernelspec": {
   "display_name": "Python 3",
   "language": "python",
   "name": "python3"
  },
  "language_info": {
   "codemirror_mode": {
    "name": "ipython",
    "version": 3
   },
   "file_extension": ".py",
   "mimetype": "text/x-python",
   "name": "python",
   "nbconvert_exporter": "python",
   "pygments_lexer": "ipython3",
   "version": "3.10.6"
  },
  "orig_nbformat": 4
 },
 "nbformat": 4,
 "nbformat_minor": 2
}
